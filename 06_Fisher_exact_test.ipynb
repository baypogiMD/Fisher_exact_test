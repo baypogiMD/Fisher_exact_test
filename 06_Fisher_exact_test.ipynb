{
  "nbformat": 4,
  "nbformat_minor": 0,
  "metadata": {
    "colab": {
      "name": "06 - Fisher exact test.ipynb",
      "provenance": [],
      "collapsed_sections": []
    },
    "kernelspec": {
      "name": "python3",
      "display_name": "Python 3"
    }
  },
  "cells": [
    {
      "cell_type": "markdown",
      "metadata": {
        "id": "6YhuvJRRzOQ1"
      },
      "source": [
        "# Fisher's exact test\n",
        "* Use to determine if there is a significant association between 2 categorical variables.\n",
        "* Use in small sample size **($n < 20$)** or if one of the cell in 2x2 table is **less than 5**.\n",
        "* This test is an alternative to Chi Square test of indepence. "
      ]
    },
    {
      "cell_type": "markdown",
      "metadata": {
        "id": "g6qIUpmL0B7E"
      },
      "source": [
        "# Is there an association between being overweight and being a good singer?\n",
        "If you think about it, the respiratory system if the primary tool to sing. The diaphragm pulls air into your lungs, your abdominal and rib cage muscles pushes the the air out. The vibration in your vocal chords produce the sounds.\n",
        "<br>\n",
        "Now, we go to being overweight or obese as a factor because the large amount of fat in the abdominal area exerts more pull in addition to gravity, which may train the abdominal muscles to be stronger. And, this will eventually help you to be a good singer (in addition to training).\n",
        "<br>\n",
        "After all, we have famous singers like Luciano Pavarotti, Black Jack, Adele, Jennifer Hudson, etc.\n",
        "<br>\n",
        "So you enroll about 16 people in your study. You compute their BMI and you do a \"blind audition\" using professional singers as judge whether the study subjects are good singers.\n"
      ]
    },
    {
      "cell_type": "code",
      "metadata": {
        "id": "hB9TNtCUz8AM"
      },
      "source": [
        "# Import the libraries\n",
        "\n",
        "import pandas as pd\n",
        "import matplotlib.pyplot as plt\n",
        "import scipy.stats as stats"
      ],
      "execution_count": 1,
      "outputs": []
    },
    {
      "cell_type": "code",
      "metadata": {
        "colab": {
          "base_uri": "https://localhost:8080/",
          "height": 107
        },
        "id": "_1rdfscJZF_L",
        "outputId": "2aeca7fc-f903-4f17-f7c5-f79b617640e4"
      },
      "source": [
        "# Create your dataset in 2x2 table\n",
        "\n",
        "sing = pd.DataFrame({'Good singer': [4, 2], 'Bad singer': [1, 9]},\n",
        "                    index=['overweight/obese', 'normal BMI'])\n",
        "sing"
      ],
      "execution_count": 2,
      "outputs": [
        {
          "output_type": "execute_result",
          "data": {
            "text/html": [
              "<div>\n",
              "<style scoped>\n",
              "    .dataframe tbody tr th:only-of-type {\n",
              "        vertical-align: middle;\n",
              "    }\n",
              "\n",
              "    .dataframe tbody tr th {\n",
              "        vertical-align: top;\n",
              "    }\n",
              "\n",
              "    .dataframe thead th {\n",
              "        text-align: right;\n",
              "    }\n",
              "</style>\n",
              "<table border=\"1\" class=\"dataframe\">\n",
              "  <thead>\n",
              "    <tr style=\"text-align: right;\">\n",
              "      <th></th>\n",
              "      <th>Good singer</th>\n",
              "      <th>Bad singer</th>\n",
              "    </tr>\n",
              "  </thead>\n",
              "  <tbody>\n",
              "    <tr>\n",
              "      <th>overweight/obese</th>\n",
              "      <td>4</td>\n",
              "      <td>1</td>\n",
              "    </tr>\n",
              "    <tr>\n",
              "      <th>normal BMI</th>\n",
              "      <td>2</td>\n",
              "      <td>9</td>\n",
              "    </tr>\n",
              "  </tbody>\n",
              "</table>\n",
              "</div>"
            ],
            "text/plain": [
              "                  Good singer  Bad singer\n",
              "overweight/obese            4           1\n",
              "normal BMI                  2           9"
            ]
          },
          "metadata": {
            "tags": []
          },
          "execution_count": 2
        }
      ]
    },
    {
      "cell_type": "markdown",
      "metadata": {
        "id": "nZeG-9lKbxzE"
      },
      "source": [
        "Formulate your hypothesis\n",
        "<br>\n",
        "$H_0$: Weight (or BMI) and singing skills are independent. They have no association whatsoever.\n",
        "<br>\n",
        "$H_1$: Weight (or BMI) and singing skills are not independent. They have an association with each other.\n",
        "<br>\n",
        "Set your level of significance at $\\alpha = 0.05$"
      ]
    },
    {
      "cell_type": "code",
      "metadata": {
        "colab": {
          "base_uri": "https://localhost:8080/"
        },
        "id": "FvasiSsIaOmV",
        "outputId": "73535c96-13d5-48d0-9737-922e203a1511"
      },
      "source": [
        "# Perform the Fisher exact test\n",
        "\n",
        "Fisher, pval = stats.fisher_exact(sing)\n",
        "Fisher, pval"
      ],
      "execution_count": 3,
      "outputs": [
        {
          "output_type": "execute_result",
          "data": {
            "text/plain": [
              "(18.0, 0.03571428571428579)"
            ]
          },
          "metadata": {
            "tags": []
          },
          "execution_count": 3
        }
      ]
    },
    {
      "cell_type": "markdown",
      "metadata": {
        "id": "bQ6k49Tsf990"
      },
      "source": [
        "Base on the p-value of 0.0357, which smaller than our $\\alpha$ level, we can reject our null hypothesis. There is an association between weight and singing skills."
      ]
    },
    {
      "cell_type": "markdown",
      "metadata": {
        "id": "voYuZTH9heOa"
      },
      "source": [
        "# Is there an association between probiotics use and gingivitis?\n",
        "There are many risk factors and causes of gingivitis one which is bacterial invasion of the gingival tissue. Some of these bacteria are: Fusobacterium, Lachnopiraceae, Lautropia, Prevotella, and Rothia. What if we just substitute these bacteria with \"good bacteria\" like Lactobacillus, Bifidobacterium, and Streptococcus? Will that decrease our chances of having gingivitis in the first place?\n",
        "<br> <br>\n",
        "You then enroll 20 subjects, you assigned half of them to taking priobiotics everyday, and the other half to their usual diet. At the end of 1 month, you check them for gingivitis."
      ]
    },
    {
      "cell_type": "code",
      "metadata": {
        "colab": {
          "base_uri": "https://localhost:8080/",
          "height": 107
        },
        "id": "z4Wu0JiBdbSD",
        "outputId": "fd77c9d2-397d-4fe2-f46b-c75c61e90f9e"
      },
      "source": [
        "# Create your dataset in 2x2 table\n",
        "\n",
        "probiotics = pd.DataFrame({'With Probiotics': [7, 3], 'Without Probiotics': [8, 2]}, \n",
        "                          index=['Healthy gums', 'with gingivitis'])\n",
        "probiotics"
      ],
      "execution_count": 4,
      "outputs": [
        {
          "output_type": "execute_result",
          "data": {
            "text/html": [
              "<div>\n",
              "<style scoped>\n",
              "    .dataframe tbody tr th:only-of-type {\n",
              "        vertical-align: middle;\n",
              "    }\n",
              "\n",
              "    .dataframe tbody tr th {\n",
              "        vertical-align: top;\n",
              "    }\n",
              "\n",
              "    .dataframe thead th {\n",
              "        text-align: right;\n",
              "    }\n",
              "</style>\n",
              "<table border=\"1\" class=\"dataframe\">\n",
              "  <thead>\n",
              "    <tr style=\"text-align: right;\">\n",
              "      <th></th>\n",
              "      <th>With Probiotics</th>\n",
              "      <th>Without Probiotics</th>\n",
              "    </tr>\n",
              "  </thead>\n",
              "  <tbody>\n",
              "    <tr>\n",
              "      <th>Healthy gums</th>\n",
              "      <td>7</td>\n",
              "      <td>8</td>\n",
              "    </tr>\n",
              "    <tr>\n",
              "      <th>with gingivitis</th>\n",
              "      <td>3</td>\n",
              "      <td>2</td>\n",
              "    </tr>\n",
              "  </tbody>\n",
              "</table>\n",
              "</div>"
            ],
            "text/plain": [
              "                 With Probiotics  Without Probiotics\n",
              "Healthy gums                   7                   8\n",
              "with gingivitis                3                   2"
            ]
          },
          "metadata": {
            "tags": []
          },
          "execution_count": 4
        }
      ]
    },
    {
      "cell_type": "markdown",
      "metadata": {
        "id": "5b8mulkjmIea"
      },
      "source": [
        "Formulate your hypothesis\n",
        "<br>\n",
        "$H_0$: Probiotics use and gingivitis are independent. They have no association whatsoever.\n",
        "<br>\n",
        "$H_1$: Probiotics use and gingivitis are not independent. They have an association with each other.\n",
        "<br>\n",
        "Set your level of significance at $\\alpha = 0.05$"
      ]
    },
    {
      "cell_type": "code",
      "metadata": {
        "colab": {
          "base_uri": "https://localhost:8080/"
        },
        "id": "cT4MpDN4lqjl",
        "outputId": "629f3e2a-4ccb-463d-a609-fec890e37125"
      },
      "source": [
        "# Perform the Fisher exact test\n",
        "\n",
        "Fisher, pval = stats.fisher_exact(probiotics)\n",
        "Fisher, pval"
      ],
      "execution_count": 5,
      "outputs": [
        {
          "output_type": "execute_result",
          "data": {
            "text/plain": [
              "(0.5833333333333334, 1.0)"
            ]
          },
          "metadata": {
            "tags": []
          },
          "execution_count": 5
        }
      ]
    },
    {
      "cell_type": "markdown",
      "metadata": {
        "id": "tRaTHcJco8A3"
      },
      "source": [
        "We have a p-value of 1.0 which is greater than our $\\alpha$. We cannot reject our null hypothesis. There is no association with probiotics use and gingival health."
      ]
    },
    {
      "cell_type": "markdown",
      "metadata": {
        "id": "Fcu8ssl3QwI8"
      },
      "source": [
        "Note: These are very simplified examples for STEM high school students. It can lead to misinterpretation of the variables that is being compared. Use the above examples with caution."
      ]
    }
  ]
}